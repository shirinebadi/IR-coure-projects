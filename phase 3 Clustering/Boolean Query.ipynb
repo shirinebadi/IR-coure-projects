{
 "cells": [
  {
   "cell_type": "markdown",
   "metadata": {
    "id": "-MYmYmnT6vWM"
   },
   "source": [
    "# Boolean Query\n",
    "\n",
    "In this notebook, we will implement a Boolean information retrieval model by Elasticsearch.  \n",
    "We have these steps: <br>\n",
    "\n",
    "**1- Connect to the Elasticsearch Cluster and Create an Index <br>\n",
    "2- Indexing Documents <br>\n",
    "3- Boolean Retrieval (Fill where ever it says #TODO in this part)** <br>\n",
    "\n",
    "Let me know if you have any problems with this notebook or implementation. <br>\n",
    "**Telegram**: [@Mohammad_Ardestani4](https://t.me/Mohammad_Ardestani4) <br>\n",
    "**Email**: mjavad.ardestani00@gmial.com"
   ]
  },
  {
   "cell_type": "code",
   "execution_count": 1,
   "metadata": {
    "id": "e1Ld-wPi9eXy"
   },
   "outputs": [
    {
     "name": "stdout",
     "output_type": "stream",
     "text": [
      "Requirement already satisfied: elasticsearch in /home/shirin/.local/lib/python3.8/site-packages (8.2.3)\n",
      "Requirement already satisfied: elastic-transport<9,>=8 in /home/shirin/.local/lib/python3.8/site-packages (from elasticsearch) (8.1.2)\n",
      "Requirement already satisfied: urllib3<2,>=1.26.2 in /home/shirin/.local/lib/python3.8/site-packages (from elastic-transport<9,>=8->elasticsearch) (1.26.9)\n",
      "Requirement already satisfied: certifi in /usr/lib/python3/dist-packages (from elastic-transport<9,>=8->elasticsearch) (2019.11.28)\n"
     ]
    }
   ],
   "source": [
    "!pip install elasticsearch"
   ]
  },
  {
   "cell_type": "code",
   "execution_count": 2,
   "metadata": {
    "colab": {
     "base_uri": "https://localhost:8080/"
    },
    "id": "zz8PVXZwOTKg",
    "outputId": "1b6699d5-46a9-4afa-9867-c4959cccf999"
   },
   "outputs": [
    {
     "name": "stderr",
     "output_type": "stream",
     "text": [
      "/usr/lib/python3/dist-packages/requests/__init__.py:89: RequestsDependencyWarning: urllib3 (1.26.9) or chardet (3.0.4) doesn't match a supported version!\n",
      "  warnings.warn(\"urllib3 ({}) or chardet ({}) doesn't match a supported \"\n"
     ]
    }
   ],
   "source": [
    "from elasticsearch import Elasticsearch, helpers\n",
    "import os, json, time\n",
    "from datetime import datetime\n",
    "from tqdm import tqdm "
   ]
  },
  {
   "cell_type": "markdown",
   "metadata": {
    "id": "8VrkfiwK68K7"
   },
   "source": [
    "## Ignore The Security Warnings\n",
    "Here we ignore the security warnings. It's suggested that you don't run below cell until you ensure that all warnings are about security. \n"
   ]
  },
  {
   "cell_type": "code",
   "execution_count": 3,
   "metadata": {
    "id": "BsAE99xuOTKj"
   },
   "outputs": [],
   "source": [
    "import warnings\n",
    "warnings.filterwarnings('ignore')"
   ]
  },
  {
   "cell_type": "markdown",
   "metadata": {
    "id": "zwRjta2P85gJ"
   },
   "source": [
    "## Load Processed Data"
   ]
  },
  {
   "cell_type": "code",
   "execution_count": 4,
   "metadata": {
    "colab": {
     "base_uri": "https://localhost:8080/"
    },
    "id": "SZ38UddzOTKm",
    "outputId": "f8f848e7-58bd-4eae-fd63-fa29ca131044"
   },
   "outputs": [
    {
     "name": "stdout",
     "output_type": "stream",
     "text": [
      "dict_keys(['title', 'content', 'tags', 'date', 'url', 'category'])\n"
     ]
    }
   ],
   "source": [
    "import json\n",
    "dataset_path = 'IR_data.json'\n",
    "with open(dataset_path) as f:\n",
    "    data = json.load(f)\n",
    "print(data['0'].keys())"
   ]
  },
  {
   "cell_type": "markdown",
   "metadata": {
    "id": "34HO2cmPOTKo"
   },
   "source": [
    "## Connect to the Elasticsearch Cluster and Create an Index\n",
    "After starting your Elasticsearch on your pc (localhost:9200 is the default), we have to connect to it via the following piece of code.\n"
   ]
  },
  {
   "cell_type": "code",
   "execution_count": 8,
   "metadata": {
    "colab": {
     "base_uri": "https://localhost:8080/",
     "height": 363
    },
    "id": "jKxaAaTYOTKq",
    "outputId": "024fb7a3-4ae3-4e59-d6bf-83c6e33f6ed1"
   },
   "outputs": [
    {
     "data": {
      "text/plain": [
       "ObjectApiResponse({'acknowledged': True, 'shards_acknowledged': True, 'index': 'ph3'})"
      ]
     },
     "execution_count": 8,
     "metadata": {},
     "output_type": "execute_result"
    }
   ],
   "source": [
    "index_name = 'ph3'\n",
    "es = Elasticsearch(\"http://localhost:9200\", http_auth=('elastic', 'changeme'))\n",
    "es.indices.create(index = index_name)"
   ]
  },
  {
   "cell_type": "markdown",
   "metadata": {},
   "source": [
    "### Check the Cluster Status"
   ]
  },
  {
   "cell_type": "code",
   "execution_count": 9,
   "metadata": {
    "id": "wzH4AbnGOTKs"
   },
   "outputs": [
    {
     "data": {
      "text/plain": [
       "{'name': '7f455992fd1b',\n",
       " 'cluster_name': 'docker-cluster',\n",
       " 'cluster_uuid': 'L57jD4AiT8mGxqe04UISYg',\n",
       " 'version': {'number': '8.2.2',\n",
       "  'build_flavor': 'default',\n",
       "  'build_type': 'docker',\n",
       "  'build_hash': '9876968ef3c745186b94fdabd4483e01499224ef',\n",
       "  'build_date': '2022-05-25T15:47:06.259735307Z',\n",
       "  'build_snapshot': False,\n",
       "  'lucene_version': '9.1.0',\n",
       "  'minimum_wire_compatibility_version': '7.17.0',\n",
       "  'minimum_index_compatibility_version': '7.0.0'},\n",
       " 'tagline': 'You Know, for Search'}"
      ]
     },
     "execution_count": 9,
     "metadata": {},
     "output_type": "execute_result"
    }
   ],
   "source": [
    "dict(es.info())"
   ]
  },
  {
   "cell_type": "markdown",
   "metadata": {},
   "source": [
    "## Indexing Documents "
   ]
  },
  {
   "cell_type": "markdown",
   "metadata": {
    "id": "0Z2i0tJoOTKv"
   },
   "source": [
    "we can add our documents to created index in two ways:<br>\n",
    "1- one by one in for loop. <br>\n",
    "2- use [Bulk API](https://www.elastic.co/guide/en/elasticsearch/reference/current/docs-bulk.html#:~:text=Bulk%20APIedit,can%20greatly%20increase%20indexing%20speed.), which performs multiple indexing or delete operations in a single API call. This reduces overhead and can significantly increase indexing speed."
   ]
  },
  {
   "cell_type": "markdown",
   "metadata": {
    "id": "ibRuMxh8OTKx"
   },
   "source": [
    "###  for loop by es.index \n",
    "**You dont have to run this cell**. "
   ]
  },
  {
   "cell_type": "code",
   "execution_count": null,
   "metadata": {
    "id": "E81WiFk2OTKz",
    "scrolled": false
   },
   "outputs": [
    {
     "name": "stderr",
     "output_type": "stream",
     "text": [
      "100%|██████████| 12202/12202 [00:43<00:00, 279.57it/s]\n"
     ]
    }
   ],
   "source": [
    "for i in tqdm(range(len(data))):\n",
    "    es.index(index = index_name, id=i, document=data[str(i)])\n",
    "    i = i + 1"
   ]
  },
  {
   "cell_type": "markdown",
   "metadata": {
    "id": "hiv35Uj3OTK2"
   },
   "source": [
    "###  Bulk API"
   ]
  },
  {
   "cell_type": "code",
   "execution_count": 10,
   "metadata": {
    "id": "qt1XZ-BaOTK4"
   },
   "outputs": [
    {
     "name": "stdout",
     "output_type": "stream",
     "text": [
      "CPU times: user 26 µs, sys: 4 µs, total: 30 µs\n",
      "Wall time: 32.2 µs\n"
     ]
    }
   ],
   "source": [
    "%%time\n",
    "from elasticsearch.helpers import bulk\n",
    "\n",
    "\n",
    "def bulk_sync():\n",
    "    actions = [\n",
    "        {\n",
    "            '_index': index_name,\n",
    "            '_id':doc_id,\n",
    "            '_source': doc\n",
    "        } for doc_id,doc in data.items()\n",
    "    ]\n",
    "    bulk(es, actions)\n"
   ]
  },
  {
   "cell_type": "code",
   "execution_count": 11,
   "metadata": {
    "id": "QUuoIuvlOTK5"
   },
   "outputs": [
    {
     "name": "stdout",
     "output_type": "stream",
     "text": [
      "Indexing all documents took about 6.26 seconds\n"
     ]
    }
   ],
   "source": [
    "start = time.time()\n",
    "bulk_sync()\n",
    "end = time.time()\n",
    "print(\"Indexing all documents took about {:.2f} seconds\".format(end - start))"
   ]
  },
  {
   "cell_type": "markdown",
   "metadata": {
    "id": "mHIPOwW1OTK7"
   },
   "source": [
    "### check index"
   ]
  },
  {
   "cell_type": "code",
   "execution_count": 12,
   "metadata": {
    "id": "hg8OYRf_OTK8",
    "outputId": "259e5c05-4b2e-40c6-8c9f-6aa9b41f4563"
   },
   "outputs": [
    {
     "data": {
      "text/plain": [
       "ObjectApiResponse({'count': 12202, '_shards': {'total': 1, 'successful': 1, 'skipped': 0, 'failed': 0}})"
      ]
     },
     "execution_count": 12,
     "metadata": {},
     "output_type": "execute_result"
    }
   ],
   "source": [
    "es.count(index = index_name)"
   ]
  },
  {
   "cell_type": "markdown",
   "metadata": {
    "id": "9PDnW1SnOTK-"
   },
   "source": [
    "## Boolean Retrieval "
   ]
  },
  {
   "cell_type": "markdown",
   "metadata": {
    "id": "mTtzPkLCOTK-"
   },
   "source": [
    "### Bool Query Structure\n",
    "\n",
    "It is built using one or more boolean clauses, each clause with a typed occurrence. The occurrence types are:\n",
    "\n",
    "**must**: The clause (query) must appear in matching documents and will contribute to the score.\n",
    "<br><br>\n",
    "**filter**: The clause (query) must appear in matching documents. However unlike must the score of the query will be ignored. Filter clauses are executed in filter context, meaning that scoring is ignored and clauses are considered for caching.\n",
    "<br><br>\n",
    "**should**: The clause (query) should appear in the matching document.\n",
    "<br><br>\n",
    "**must_not**: The clause (query) must not appear in the matching documents. Clauses are executed in filter context meaning that scoring is ignored and clauses are considered for caching. Because scoring is ignored, a score of 0 for all documents is returned.\n",
    "\n",
    "For further information, you can read this [Document](https://www.elastic.co/guide/en/elasticsearch/reference/current/query-dsl-bool-query.html). \n",
    "\n",
    "###  <span style=\"color:red\"> TODO </span>\n",
    "You should read about [match query](https://www.elastic.co/guide/en/elasticsearch/reference/current/query-dsl-match-query.html#match-top-level-params) and [match phrase query](https://www.elastic.co/guide/en/elasticsearch/reference/current/query-dsl-match-query-phrase.html) then complete the below cell."
   ]
  },
  {
   "cell_type": "code",
   "execution_count": 13,
   "metadata": {
    "id": "G6XYVxrjOTK_"
   },
   "outputs": [],
   "source": [
    "query= {\n",
    "        \"bool\": {\n",
    "          \"should\": [\n",
    "              { \n",
    "                \"match\": {\n",
    "                    \"content\": \"عراق\"\n",
    "             }\n",
    "              }, \n",
    "              \n",
    "              { \n",
    "                    \"match_phrase\": {\n",
    "          \"content\": \" هواداران باشگاه\"\n",
    "      }\n",
    "              },\n",
    "   \n",
    "          ],\n",
    "          \"must_not\": [\n",
    "              {\n",
    "                  \"match\": {\n",
    "                    \"content\": \"ایران\"\n",
    "                }\n",
    "              }\n",
    "          ],\n",
    "        },\n",
    "    }"
   ]
  },
  {
   "cell_type": "markdown",
   "metadata": {
    "id": "GqR7SLBVOTLC"
   },
   "source": [
    "### Search query\n",
    "\n",
    "The _source field contains the original JSON document body that was passed at index time. The _source field itself is not indexed (and thus is not searchable), but it is stored so that it can be returned when executing fetch requests, like get or search.\n",
    "\n",
    "For further information, you can read this [Document](https://www.elastic.co/guide/en/elasticsearch/reference/current/search-search.html#search-api-response-body)."
   ]
  },
  {
   "cell_type": "code",
   "execution_count": 14,
   "metadata": {
    "id": "SSrpYB5JOTLC",
    "outputId": "5865f35f-8d44-413f-85cf-2c7e37c4ed7e"
   },
   "outputs": [],
   "source": [
    "res = es.search(index = index_name, query=query, _source= [\"url\"])\n",
    "res = dict(res)"
   ]
  },
  {
   "cell_type": "markdown",
   "metadata": {
    "id": "nkHMGaXfOTLD"
   },
   "source": [
    "### Results"
   ]
  },
  {
   "cell_type": "code",
   "execution_count": 15,
   "metadata": {
    "id": "g3sPDdpROTLE",
    "outputId": "92ed7fe8-f69c-4f48-aba5-ca2b4a881968",
    "scrolled": true
   },
   "outputs": [
    {
     "name": "stdout",
     "output_type": "stream",
     "text": [
      "146 results in 0.023 s: \n",
      "https://www.farsnews.ir/news/14001027000416/فوتبال-عراق-حامی-یار-شهید-سردار-سلیمانی-عکس\n",
      "https://www.farsnews.ir/news/14001007000723/طرح-قانونمند-شدن-کانون-هواداران-باشگاه‌ها-و-ایجاد-امکانات-رفاهی-برای\n",
      "https://www.farsnews.ir/news/14001222000020/همکاری-خطیبی-و-آلومینیوم-بازهم-به-پایان-فصل-نرسید\n",
      "https://www.farsnews.ir/news/14001217000662/پایان-سال-انتظار-عراق-AFC-میزبانی-همگروه-ایران-را-تایید-کرد\n",
      "https://www.farsnews.ir/news/14001022000430/کادرفنی-عراق-پیش-از-دیدار-با-ایران-به-مشکل-خورد-عکس\n",
      "https://www.farsnews.ir/news/14001104000059/دعوای-بزرگ-رقبای-ایران-در-فوتبال-بر-سر-رژیم-صهیونیستی\n",
      "https://www.farsnews.ir/news/14000929000679/حاشیه-بازی-پرسپولیس-و-ویستا-توربین|-اعتراض-سرخ-پوشان-به-روشن-نشدن\n",
      "https://www.farsnews.ir/news/14001107000613/اعتراف-رسانه-عراقی-فهد-طالب-با-سرسختی-دروازه-ما-را-نجات-داد-عکس-و-فیلم\n",
      "https://www.farsnews.ir/news/14001217000221/دیدار-رقبای-ایران-با-تماشاگر-شد-امیدواری-عراقی‌ها-برای-صعود-به-جام\n",
      "https://www.farsnews.ir/news/14001026000568/آمادگی-تیم-ملی-عراق-برای-دیدار-با-ایران-بدون-لژیونرها-عکس\n"
     ]
    }
   ],
   "source": [
    "print(\"{} results in {} s: \".format(res['hits']['total']['value'] ,res['took']/1000))\n",
    "for doc in res['hits']['hits']:\n",
    "    print(doc['_source']['url'])"
   ]
  }
 ],
 "metadata": {
  "colab": {
   "name": "boolean_query.ipynb",
   "provenance": []
  },
  "kernelspec": {
   "display_name": "Python 3.8.10 64-bit",
   "language": "python",
   "name": "python3"
  },
  "language_info": {
   "codemirror_mode": {
    "name": "ipython",
    "version": 3
   },
   "file_extension": ".py",
   "mimetype": "text/x-python",
   "name": "python",
   "nbconvert_exporter": "python",
   "pygments_lexer": "ipython3",
   "version": "3.8.10"
  },
  "vscode": {
   "interpreter": {
    "hash": "916dbcbb3f70747c44a77c7bcd40155683ae19c65e1c03b4aa3499c5328201f1"
   }
  }
 },
 "nbformat": 4,
 "nbformat_minor": 1
}
